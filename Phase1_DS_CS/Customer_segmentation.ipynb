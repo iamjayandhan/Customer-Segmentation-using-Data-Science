import pandas as pd
import numpy as np
import matplotlib.pyplot as plt
from sklearn.cluster import KMeans
from sklearn.preprocessing import StandardScaler, LabelEncoder
from sklearn.pipeline import Pipeline

# Load your dataset here
# Replace 'Mall_Customers.csv' with the path to your dataset file
data = pd.read_csv('Mall_Customers.csv')

# Explore your dataset
print(data.head())
print(data.info())

# Data Preprocessing
# No preprocessing is needed in this case.

# Select features for clustering
X = data[['Age', 'Annual Income (k$)', 'Spending Score (1-100)']]

# Create a pipeline for clustering
pipeline = Pipeline(steps=[
    ('scaler', StandardScaler()),  # Scale the features
    ('kmeans', KMeans(n_clusters=3, random_state=42))  # Adjust the number of clusters as needed
])

# Fit the pipeline to your data
pipeline.fit(X)

# Get cluster labels
cluster_labels = pipeline.named_steps['kmeans'].labels_

# Add cluster labels to the dataset
data['Cluster'] = cluster_labels

# Visualize the clusters based on two features
plt.scatter(data['Annual Income (k$)'], data['Spending Score (1-100)'], c=data['Cluster'], cmap='rainbow')
plt.xlabel('Annual Income (k$)')
plt.ylabel('Spending Score (1-100)')
plt.title('Customer Segmentation')
plt.show()

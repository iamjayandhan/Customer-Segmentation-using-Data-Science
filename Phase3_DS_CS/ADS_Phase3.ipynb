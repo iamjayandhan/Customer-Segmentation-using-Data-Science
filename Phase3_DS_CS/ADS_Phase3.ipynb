{
  "metadata": {
    "language_info": {
      "codemirror_mode": {
        "name": "python",
        "version": 3
      },
      "file_extension": ".py",
      "mimetype": "text/x-python",
      "name": "python",
      "nbconvert_exporter": "python",
      "pygments_lexer": "ipython3",
      "version": "3.8"
    },
    "kernelspec": {
      "name": "python",
      "display_name": "Python (Pyodide)",
      "language": "python"
    }
  },
  "nbformat_minor": 4,
  "nbformat": 4,
  "cells": [
    {
      "cell_type": "code",
      "source": "import pandas as pd\nimport numpy as np\nfrom sklearn.cluster import KMeans\nfrom sklearn.preprocessing import StandardScaler\n\n# Load the dataset\ndata = pd.read_csv('Mall_Customers.csv')\n\n# Explore the dataset\nprint(data.head())\nprint(data.info())\nprint(data.describe())\n\n# Exclude non-numeric columns\nnumeric_data = data.select_dtypes(include=[np.number])\n\n# Handling Missing Values\n# Check for missing values\nmissing_values = numeric_data.isnull().sum()\nprint(\"Missing Values:\\n\", missing_values)\n\n# Standardization (Optional)\nscaler = StandardScaler()\nnumeric_data_scaled = scaler.fit_transform(numeric_data)\nnumeric_data_scaled = pd.DataFrame(numeric_data_scaled, columns=numeric_data.columns)  # Convert back to DataFrame\n\n# Summary statistics for the updated dataset\nprint(\"Summary Statistics for Updated Dataset:\\n\", numeric_data_scaled.describe())",
      "metadata": {
        "trusted": true
      },
      "execution_count": 1,
      "outputs": [
        {
          "name": "stdout",
          "text": "   CustomerID   Genre  Age  Annual Income (k$)  Spending Score (1-100)\n0           1    Male   19                  15                      39\n1           2    Male   21                  15                      81\n2           3  Female   20                  16                       6\n3           4  Female   23                  16                      77\n4           5  Female   31                  17                      40\n<class 'pandas.core.frame.DataFrame'>\nRangeIndex: 200 entries, 0 to 199\nData columns (total 5 columns):\n #   Column                  Non-Null Count  Dtype \n---  ------                  --------------  ----- \n 0   CustomerID              200 non-null    int64 \n 1   Genre                   200 non-null    object\n 2   Age                     200 non-null    int64 \n 3   Annual Income (k$)      200 non-null    int64 \n 4   Spending Score (1-100)  200 non-null    int64 \ndtypes: int64(4), object(1)\nmemory usage: 7.1+ KB\nNone\n       CustomerID         Age  Annual Income (k$)  Spending Score (1-100)\ncount  200.000000  200.000000          200.000000              200.000000\nmean   100.500000   38.850000           60.560000               50.200000\nstd     57.879185   13.969007           26.264721               25.823522\nmin      1.000000   18.000000           15.000000                1.000000\n25%     50.750000   28.750000           41.500000               34.750000\n50%    100.500000   36.000000           61.500000               50.000000\n75%    150.250000   49.000000           78.000000               73.000000\nmax    200.000000   70.000000          137.000000               99.000000\nMissing Values:\n CustomerID                0\nAge                       0\nAnnual Income (k$)        0\nSpending Score (1-100)    0\ndtype: int64\nSummary Statistics for Updated Dataset:\n        CustomerID           Age  Annual Income (k$)  Spending Score (1-100)\ncount  200.000000  2.000000e+02        2.000000e+02            2.000000e+02\nmean     0.000000 -1.021405e-16       -2.131628e-16           -1.465494e-16\nstd      1.002509  1.002509e+00        1.002509e+00            1.002509e+00\nmin     -1.723412 -1.496335e+00       -1.738999e+00           -1.910021e+00\n25%     -0.861706 -7.248436e-01       -7.275093e-01           -5.997931e-01\n50%      0.000000 -2.045351e-01        3.587926e-02           -7.764312e-03\n75%      0.861706  7.284319e-01        6.656748e-01            8.851316e-01\nmax      1.723412  2.235532e+00        2.917671e+00            1.894492e+00\n",
          "output_type": "stream"
        }
      ]
    },
    {
      "cell_type": "code",
      "source": "",
      "metadata": {},
      "execution_count": null,
      "outputs": []
    }
  ]
}